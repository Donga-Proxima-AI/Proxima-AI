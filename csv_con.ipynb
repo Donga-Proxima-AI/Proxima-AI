{
 "cells": [
  {
   "cell_type": "code",
   "execution_count": 17,
   "id": "bbe2ddea",
   "metadata": {},
   "outputs": [
    {
     "name": "stdout",
     "output_type": "stream",
     "text": [
      "파일의 경로: C:\\Users\\권현주\\Downloads\\한국언론진흥재단_뉴스빅데이터_메타데이터_가짜뉴스_20201231.csv\n",
      "파일의 인코딩: UTF-8-SIG\n",
      "파일의 경로: C:\\Users\\권현주\\Downloads\\한국언론진흥재단_뉴스빅데이터_메타데이터_메타버스_20201231.csv\n",
      "파일의 인코딩: EUC-KR\n",
      "파일의 경로: C:\\Users\\권현주\\Downloads\\한국언론진흥재단_뉴스빅데이터_메타데이터_장애인_20001231.csv\n",
      "파일의 인코딩: CP949\n",
      "파일의 경로: C:\\Users\\권현주\\Downloads\\한국언론진흥재단_뉴스빅데이터_메타데이터_노인_20011231.csv\n",
      "파일의 인코딩: EUC-KR\n",
      "모든 파일을 성공적으로 합쳤습니다.\n"
     ]
    }
   ],
   "source": [
    "import pandas as pd\n",
    "import chardet\n",
    "\n",
    "# CSV 파일 경로들\n",
    "csv_file_paths = [\n",
    "    r\"C:\\Users\\권현주\\Downloads\\한국언론진흥재단_뉴스빅데이터_메타데이터_가짜뉴스_20201231.csv\",\n",
    "    r\"C:\\Users\\권현주\\Downloads\\한국언론진흥재단_뉴스빅데이터_메타데이터_메타버스_20201231.csv\",\n",
    "    r\"C:\\Users\\권현주\\Downloads\\한국언론진흥재단_뉴스빅데이터_메타데이터_장애인_20001231.csv\",\n",
    "    r\"C:\\Users\\권현주\\Downloads\\한국언론진흥재단_뉴스빅데이터_메타데이터_노인_20011231.csv\",\n",
    "]\n",
    "\n",
    "# 데이터프레임들을 저장할 리스트\n",
    "dataframes = []\n",
    "\n",
    "# 각 파일을 읽어서 인코딩에 맞게 DataFrame으로 저장\n",
    "for csv_file_path in csv_file_paths:\n",
    "    with open(csv_file_path, 'rb') as f:\n",
    "        result = chardet.detect(f.read())\n",
    "        encoding = result['encoding']\n",
    "        \n",
    "    print(f\"파일의 경로: {csv_file_path}\")\n",
    "    print(f\"파일의 인코딩: {encoding}\")\n",
    "    \n",
    "    # 파일을 해당 인코딩으로 불러와 DataFrame으로 저장\n",
    "    df = pd.read_csv(csv_file_path, encoding=encoding)\n",
    "    dataframes.append(df)\n",
    "\n",
    "# dataframes 리스트에 있는 모든 DataFrame들을 합치기\n",
    "combined_df = pd.concat(dataframes, ignore_index=True)\n",
    "\n",
    "# 합친 DataFrame을 CSV 파일로 저장\n",
    "# 합친 DataFrame을 CSV 파일로 저장 (UTF-8 인코딩으로)\n",
    "combined_csv_path = r\"C:\\Users\\권현주\\Desktop\\asdf.csv\"\n",
    "combined_df= df.drop(['통합 분류1', '통합 분류2', '통합 분류3', '사건_사고 분류1', '사건_사고 분류2', '사건_사고 분류3', '개체명(인물)', '개체명(지역)', '개체명(기업기관)'], axis=1)\n",
    "combined_df.to_csv(combined_csv_path, index=False, encoding='utf-8-sig')\n",
    "print(\"모든 파일을 성공적으로 합쳤습니다.\")\n"
   ]
  },
  {
   "cell_type": "code",
   "execution_count": 19,
   "id": "5b058937",
   "metadata": {},
   "outputs": [
    {
     "name": "stdout",
     "output_type": "stream",
     "text": [
      "<class 'pandas.core.frame.DataFrame'>\n",
      "RangeIndex: 59204 entries, 0 to 59203\n",
      "Data columns (total 18 columns):\n",
      " #   Column     Non-Null Count  Dtype \n",
      "---  ------     --------------  ----- \n",
      " 0   주소         59204 non-null  object\n",
      " 1   일자         59204 non-null  object\n",
      " 2   언론사        59204 non-null  object\n",
      " 3   기고자        46395 non-null  object\n",
      " 4   제목         59204 non-null  object\n",
      " 5   통합 분류1     57440 non-null  object\n",
      " 6   통합 분류2     48834 non-null  object\n",
      " 7   통합 분류3     39632 non-null  object\n",
      " 8   사건_사고 분류1  7672 non-null   object\n",
      " 9   사건_사고 분류2  1912 non-null   object\n",
      " 10  사건_사고 분류3  623 non-null    object\n",
      " 11  개체명(인물)    37049 non-null  object\n",
      " 12  개체명(지역)    52815 non-null  object\n",
      " 13  개체명(기업기관)  56651 non-null  object\n",
      " 14  키워드        59203 non-null  object\n",
      " 15  특성추출       59204 non-null  object\n",
      " 16  본문         59203 non-null  object\n",
      " 17  원본주소       25714 non-null  object\n",
      "dtypes: object(18)\n",
      "memory usage: 8.1+ MB\n"
     ]
    }
   ],
   "source": [
    "combined_df.info()"
   ]
  },
  {
   "cell_type": "code",
   "execution_count": 22,
   "id": "4f4c87a4",
   "metadata": {},
   "outputs": [],
   "source": [
    "combined_df= df.drop(['통합 분류1', '통합 분류2', '통합 분류3', '사건_사고 분류1', '사건_사고 분류2', '사건_사고 분류3', '개체명(인물)', '개체명(지역)', '개체명(기업기관)'], axis=1)"
   ]
  },
  {
   "cell_type": "code",
   "execution_count": 23,
   "id": "9a745e3d",
   "metadata": {},
   "outputs": [
    {
     "name": "stdout",
     "output_type": "stream",
     "text": [
      "<class 'pandas.core.frame.DataFrame'>\n",
      "RangeIndex: 25586 entries, 0 to 25585\n",
      "Data columns (total 9 columns):\n",
      " #   Column  Non-Null Count  Dtype \n",
      "---  ------  --------------  ----- \n",
      " 0   주소      25586 non-null  object\n",
      " 1   일자      25586 non-null  object\n",
      " 2   언론사     25586 non-null  object\n",
      " 3   기고자     18737 non-null  object\n",
      " 4   제목      25586 non-null  object\n",
      " 5   키워드     25586 non-null  object\n",
      " 6   특성추출    25586 non-null  object\n",
      " 7   본문      25586 non-null  object\n",
      " 8   원본주소    6517 non-null   object\n",
      "dtypes: object(9)\n",
      "memory usage: 1.8+ MB\n"
     ]
    }
   ],
   "source": [
    "combined_df.info()"
   ]
  },
  {
   "cell_type": "code",
   "execution_count": 24,
   "id": "d26c367d",
   "metadata": {},
   "outputs": [
    {
     "name": "stdout",
     "output_type": "stream",
     "text": [
      "모든 파일을 성공적으로 합쳤습니다.\n"
     ]
    }
   ],
   "source": [
    "combined_csv_path = r\"C:\\Users\\권현주\\Desktop\\asdf.csv\"\n",
    "combined_df.to_csv(combined_csv_path, index=False, encoding='utf-8-sig')\n",
    "print(\"모든 파일을 성공적으로 합쳤습니다.\")"
   ]
  }
 ],
 "metadata": {
  "kernelspec": {
   "display_name": "Python 3 (ipykernel)",
   "language": "python",
   "name": "python3"
  },
  "language_info": {
   "codemirror_mode": {
    "name": "ipython",
    "version": 3
   },
   "file_extension": ".py",
   "mimetype": "text/x-python",
   "name": "python",
   "nbconvert_exporter": "python",
   "pygments_lexer": "ipython3",
   "version": "3.10.9"
  }
 },
 "nbformat": 4,
 "nbformat_minor": 5
}
